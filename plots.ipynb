{
 "cells": [
  {
   "cell_type": "markdown",
   "metadata": {},
   "source": [
    "# Plots\n",
    "\n",
    "This is a work assignment given by our great micromanager."
   ]
  },
  {
   "cell_type": "code",
   "execution_count": 279,
   "metadata": {},
   "outputs": [],
   "source": [
    "import matplotlib.pyplot as plt\n",
    "import pandas as pd\n",
    "import plotly.graph_objects as go\n",
    "import numpy as np\n",
    "import networkx as nx\n",
    "import plotly.io as pio"
   ]
  },
  {
   "cell_type": "markdown",
   "metadata": {},
   "source": [
    "## Bar Graph"
   ]
  },
  {
   "cell_type": "code",
   "execution_count": 280,
   "metadata": {},
   "outputs": [
    {
     "data": {
      "image/png": "[encoded data removed]",
      "text/plain": [
       "<Figure size 450x425 with 1 Axes>"
      ]
     },
     "metadata": {},
     "output_type": "display_data"
    }
   ],
   "source": [
    "df = pd.read_csv('data/bar_assignment.csv')\n",
    "df[df.columns[1]] = df[df.columns[1]].map({1: \"Yes\", 0: \"No\"})\n",
    "df = df.groupby(df.columns[0])[df.columns[1]].value_counts().unstack(fill_value=0)\n",
    "\n",
    "ax = df.plot(kind='barh', stacked=True, color=['red', 'blue'], figsize=(4.5, 4.25))\n",
    "\n",
    "for b in ax.patches:\n",
    "    width = b.get_width()\n",
    "    if width != 0:\n",
    "        height = b.get_height()\n",
    "        y = b.get_y()\n",
    "        x = b.get_x()\n",
    "        ax.text(x + width - 0.1, y + height / 2, f'{int(width)}', ha='right', va='center', fontsize=10, color='white', weight='bold')\n",
    "\n",
    "ax.tick_params(axis='both', which='major', labelsize=10)\n",
    "plt.title('Bar Graph', fontsize=10, loc='left', pad=30)\n",
    "plt.xlabel('Count', fontsize=10)\n",
    "plt.ylabel('Label', fontsize=10)\n",
    "plt.legend(ncol=2, shadow=True, loc='upper left', bbox_to_anchor=(0, 1.14), fontsize=10)\n",
    "plt.tight_layout()\n",
    "\n",
    "plt.savefig('output/bar_graph.png', dpi=500, format='png')\n",
    "\n",
    "plt.show()"
   ]
  },
  {
   "cell_type": "markdown",
   "metadata": {},
   "source": [
    "## Sankey Diagram"
   ]
  },
  {
   "cell_type": "code",
   "execution_count": 281,
   "metadata": {},
   "outputs": [
    {
     "data": {
      "application/vnd.plotly.v1+json": {
       "config": {
        "plotlyServerURL": "https://plot.ly"
       },
       "data": [
        {
         "link": {
          "color": [
           "#ffb18c",
           "#ffb18c",
           "#ffb18c",
           "#1bbeb9",
           "#1bbeb9",
           "#1bbeb9",
           "#1bbeb9",
           "#1bbeb9",
           "#ff9e00",
           "#ff9e00",
           "#ff9e00",
           "#ff9e00",
           "#ff84c1",
           "#ff84c1",
           "#ff84c1",
           "#9fc6a0",
           "#00d5da",
           "#ffdc00",
           "#ffdc00",
           "#ffdc00",
           "#c871dc",
           "#c871dc",
           "#c871dc",
           "#97d8fb",
           "#97d8fb",
           "#97d8fb",
           "#5795c1",
           "#5795c1",
           "#70adb0",
           "#70adb0",
           "#70adb0",
           "#75a8f1",
           "#75a8f1",
           "#75a8f1",
           "#00cbff"
          ],
          "source": [
           0,
           0,
           0,
           1,
           1,
           1,
           1,
           1,
           2,
           2,
           2,
           2,
           3,
           3,
           3,
           4,
           5,
           6,
           6,
           6,
           7,
           7,
           7,
           8,
           8,
           8,
           9,
           9,
           10,
           10,
           10,
           11,
           11,
           11,
           12
          ],
          "target": [
           8,
           10,
           11,
           8,
           9,
           10,
           11,
           12,
           8,
           9,
           10,
           11,
           8,
           9,
           11,
           9,
           11,
           8,
           10,
           11,
           8,
           9,
           10,
           13,
           14,
           15,
           13,
           14,
           13,
           14,
           15,
           13,
           14,
           15,
           14
          ],
          "value": [
           3,
           1,
           1,
           4,
           1,
           1,
           1,
           1,
           1,
           2,
           2,
           1,
           1,
           1,
           1,
           1,
           1,
           1,
           1,
           1,
           1,
           1,
           1,
           2,
           7,
           1,
           2,
           2,
           1,
           3,
           1,
           2,
           2,
           1,
           1
          ]
         },
         "node": {
          "color": [
           "#ffb18c",
           "#1bbeb9",
           "#ff9e00",
           "#ff84c1",
           "#9fc6a0",
           "#00d5da",
           "#ffdc00",
           "#c871dc",
           "#97d8fb",
           "#5795c1",
           "#70adb0",
           "#75a8f1",
           "#00cbff",
           "#46bd84",
           "#a4f8a8",
           "#9eeea0"
          ],
          "label": [
           "PS",
           "OMP",
           "CNP",
           "NRP",
           "NMCCC",
           "PEC",
           "NCDM",
           "RGS",
           "S",
           "F",
           "D",
           "N",
           "I",
           "Reg",
           "Aca",
           "Oth"
          ],
          "line": {
           "color": "black",
           "width": 1
          },
          "pad": 5,
          "thickness": 10
         },
         "type": "sankey"
        }
       ],
       "layout": {
        "font": {
         "size": 10
        },
        "margin": {
         "b": 20,
         "l": 20,
         "r": 20,
         "t": 50
        },
        "template": {
         "data": {
          "bar": [
           {
            "error_x": {
             "color": "#2a3f5f"
            },
            "error_y": {
             "color": "#2a3f5f"
            },
            "marker": {
             "line": {
              "color": "#E5ECF6",
              "width": 0.5
             },
             "pattern": {
              "fillmode": "overlay",
              "size": 10,
              "solidity": 0.2
             }
            },
            "type": "bar"
           }
          ],
          "barpolar": [
           {
            "marker": {
             "line": {
              "color": "#E5ECF6",
              "width": 0.5
             },
             "pattern": {
              "fillmode": "overlay",
              "size": 10,
              "solidity": 0.2
             }
            },
            "type": "barpolar"
           }
          ],
          "carpet": [
           {
            "aaxis": {
             "endlinecolor": "#2a3f5f",
             "gridcolor": "white",
             "linecolor": "white",
             "minorgridcolor": "white",
             "startlinecolor": "#2a3f5f"
            },
            "baxis": {
             "endlinecolor": "#2a3f5f",
             "gridcolor": "white",
             "linecolor": "white",
             "minorgridcolor": "white",
             "startlinecolor": "#2a3f5f"
            },
            "type": "carpet"
           }
          ],
          "choropleth": [
           {
            "colorbar": {
             "outlinewidth": 0,
             "ticks": ""
            },
            "type": "choropleth"
           }
          ],
          "contour": [
           {
            "colorbar": {
             "outlinewidth": 0,
             "ticks": ""
            },
            "colorscale": [
             [
              0,
              "#0d0887"
             ],
             [
              0.1111111111111111,
              "#46039f"
             ],
             [
              0.2222222222222222,
              "#7201a8"
             ],
             [
              0.3333333333333333,
              "#9c179e"
             ],
             [
              0.4444444444444444,
              "#bd3786"
             ],
             [
              0.5555555555555556,
              "#d8576b"
             ],
             [
              0.6666666666666666,
              "#ed7953"
             ],
             [
              0.7777777777777778,
              "#fb9f3a"
             ],
             [
              0.8888888888888888,
              "#fdca26"
             ],
             [
              1,
              "#f0f921"
             ]
            ],
            "type": "contour"
           }
          ],
          "contourcarpet": [
           {
            "colorbar": {
             "outlinewidth": 0,
             "ticks": ""
            },
            "type": "contourcarpet"
           }
          ],
          "heatmap": [
           {
            "colorbar": {
             "outlinewidth": 0,
             "ticks": ""
            },
            "colorscale": [
             [
              0,
              "#0d0887"
             ],
             [
              0.1111111111111111,
              "#46039f"
             ],
             [
              0.2222222222222222,
              "#7201a8"
             ],
             [
              0.3333333333333333,
              "#9c179e"
             ],
             [
              0.4444444444444444,
              "#bd3786"
             ],
             [
              0.5555555555555556,
              "#d8576b"
             ],
             [
              0.6666666666666666,
              "#ed7953"
             ],
             [
              0.7777777777777778,
              "#fb9f3a"
             ],
             [
              0.8888888888888888,
              "#fdca26"
             ],
             [
              1,
              "#f0f921"
             ]
            ],
            "type": "heatmap"
           }
          ],
          "histogram": [
           {
            "marker": {
             "pattern": {
              "fillmode": "overlay",
              "size": 10,
              "solidity": 0.2
             }
            },
            "type": "histogram"
           }
          ],
          "histogram2d": [
           {
            "colorbar": {
             "outlinewidth": 0,
             "ticks": ""
            },
            "colorscale": [
             [
              0,
              "#0d0887"
             ],
             [
              0.1111111111111111,
              "#46039f"
             ],
             [
              0.2222222222222222,
              "#7201a8"
             ],
             [
              0.3333333333333333,
              "#9c179e"
             ],
             [
              0.4444444444444444,
              "#bd3786"
             ],
             [
              0.5555555555555556,
              "#d8576b"
             ],
             [
              0.6666666666666666,
              "#ed7953"
             ],
             [
              0.7777777777777778,
              "#fb9f3a"
             ],
             [
              0.8888888888888888,
              "#fdca26"
             ],
             [
              1,
              "#f0f921"
             ]
            ],
            "type": "histogram2d"
           }
          ],
          "histogram2dcontour": [
           {
            "colorbar": {
             "outlinewidth": 0,
             "ticks": ""
            },
            "colorscale": [
             [
              0,
              "#0d0887"
             ],
             [
              0.1111111111111111,
              "#46039f"
             ],
             [
              0.2222222222222222,
              "#7201a8"
             ],
             [
              0.3333333333333333,
              "#9c179e"
             ],
             [
              0.4444444444444444,
              "#bd3786"
             ],
             [
              0.5555555555555556,
              "#d8576b"
             ],
             [
              0.6666666666666666,
              "#ed7953"
             ],
             [
              0.7777777777777778,
              "#fb9f3a"
             ],
             [
              0.8888888888888888,
              "#fdca26"
             ],
             [
              1,
              "#f0f921"
             ]
            ],
            "type": "histogram2dcontour"
           }
          ],
          "mesh3d": [
           {
            "colorbar": {
             "outlinewidth": 0,
             "ticks": ""
            },
            "type": "mesh3d"
           }
          ],
          "parcoords": [
           {
            "line": {
             "colorbar": {
              "outlinewidth": 0,
              "ticks": ""
             }
            },
            "type": "parcoords"
           }
          ],
          "pie": [
           {
            "automargin": true,
            "type": "pie"
           }
          ],
          "scatter": [
           {
            "fillpattern": {
             "fillmode": "overlay",
             "size": 10,
             "solidity": 0.2
            },
            "type": "scatter"
           }
          ],
          "scatter3d": [
           {
            "line": {
             "colorbar": {
              "outlinewidth": 0,
              "ticks": ""
             }
            },
            "marker": {
             "colorbar": {
              "outlinewidth": 0,
              "ticks": ""
             }
            },
            "type": "scatter3d"
           }
          ],
          "scattercarpet": [
           {
            "marker": {
             "colorbar": {
              "outlinewidth": 0,
              "ticks": ""
             }
            },
            "type": "scattercarpet"
           }
          ],
          "scattergeo": [
           {
            "marker": {
             "colorbar": {
              "outlinewidth": 0,
              "ticks": ""
             }
            },
            "type": "scattergeo"
           }
          ],
          "scattergl": [
           {
            "marker": {
             "colorbar": {
              "outlinewidth": 0,
              "ticks": ""
             }
            },
            "type": "scattergl"
           }
          ],
          "scattermap": [
           {
            "marker": {
             "colorbar": {
              "outlinewidth": 0,
              "ticks": ""
             }
            },
            "type": "scattermap"
           }
          ],
          "scattermapbox": [
           {
            "marker": {
             "colorbar": {
              "outlinewidth": 0,
              "ticks": ""
             }
            },
            "type": "scattermapbox"
           }
          ],
          "scatterpolar": [
           {
            "marker": {
             "colorbar": {
              "outlinewidth": 0,
              "ticks": ""
             }
            },
            "type": "scatterpolar"
           }
          ],
          "scatterpolargl": [
           {
            "marker": {
             "colorbar": {
              "outlinewidth": 0,
              "ticks": ""
             }
            },
            "type": "scatterpolargl"
           }
          ],
          "scatterternary": [
           {
            "marker": {
             "colorbar": {
              "outlinewidth": 0,
              "ticks": ""
             }
            },
            "type": "scatterternary"
           }
          ],
          "surface": [
           {
            "colorbar": {
             "outlinewidth": 0,
             "ticks": ""
            },
            "colorscale": [
             [
              0,
              "#0d0887"
             ],
             [
              0.1111111111111111,
              "#46039f"
             ],
             [
              0.2222222222222222,
              "#7201a8"
             ],
             [
              0.3333333333333333,
              "#9c179e"
             ],
             [
              0.4444444444444444,
              "#bd3786"
             ],
             [
              0.5555555555555556,
              "#d8576b"
             ],
             [
              0.6666666666666666,
              "#ed7953"
             ],
             [
              0.7777777777777778,
              "#fb9f3a"
             ],
             [
              0.8888888888888888,
              "#fdca26"
             ],
             [
              1,
              "#f0f921"
             ]
            ],
            "type": "surface"
           }
          ],
          "table": [
           {
            "cells": {
             "fill": {
              "color": "#EBF0F8"
             },
             "line": {
              "color": "white"
             }
            },
            "header": {
             "fill": {
              "color": "#C8D4E3"
             },
             "line": {
              "color": "white"
             }
            },
            "type": "table"
           }
          ]
         },
         "layout": {
          "annotationdefaults": {
           "arrowcolor": "#2a3f5f",
           "arrowhead": 0,
           "arrowwidth": 1
          },
          "autotypenumbers": "strict",
          "coloraxis": {
           "colorbar": {
            "outlinewidth": 0,
            "ticks": ""
           }
          },
          "colorscale": {
           "diverging": [
            [
             0,
             "#8e0152"
            ],
            [
             0.1,
             "#c51b7d"
            ],
            [
             0.2,
             "#de77ae"
            ],
            [
             0.3,
             "#f1b6da"
            ],
            [
             0.4,
             "#fde0ef"
            ],
            [
             0.5,
             "#f7f7f7"
            ],
            [
             0.6,
             "#e6f5d0"
            ],
            [
             0.7,
             "#b8e186"
            ],
            [
             0.8,
             "#7fbc41"
            ],
            [
             0.9,
             "#4d9221"
            ],
            [
             1,
             "#276419"
            ]
           ],
           "sequential": [
            [
             0,
             "#0d0887"
            ],
            [
             0.1111111111111111,
             "#46039f"
            ],
            [
             0.2222222222222222,
             "#7201a8"
            ],
            [
             0.3333333333333333,
             "#9c179e"
            ],
            [
             0.4444444444444444,
             "#bd3786"
            ],
            [
             0.5555555555555556,
             "#d8576b"
            ],
            [
             0.6666666666666666,
             "#ed7953"
            ],
            [
             0.7777777777777778,
             "#fb9f3a"
            ],
            [
             0.8888888888888888,
             "#fdca26"
            ],
            [
             1,
             "#f0f921"
            ]
           ],
           "sequentialminus": [
            [
             0,
             "#0d0887"
            ],
            [
             0.1111111111111111,
             "#46039f"
            ],
            [
             0.2222222222222222,
             "#7201a8"
            ],
            [
             0.3333333333333333,
             "#9c179e"
            ],
            [
             0.4444444444444444,
             "#bd3786"
            ],
            [
             0.5555555555555556,
             "#d8576b"
            ],
            [
             0.6666666666666666,
             "#ed7953"
            ],
            [
             0.7777777777777778,
             "#fb9f3a"
            ],
            [
             0.8888888888888888,
             "#fdca26"
            ],
            [
             1,
             "#f0f921"
            ]
           ]
          },
          "colorway": [
           "#636efa",
           "#EF553B",
           "#00cc96",
           "#ab63fa",
           "#FFA15A",
           "#19d3f3",
           "#FF6692",
           "#B6E880",
           "#FF97FF",
           "#FECB52"
          ],
          "font": {
           "color": "#2a3f5f"
          },
          "geo": {
           "bgcolor": "white",
           "lakecolor": "white",
           "landcolor": "#E5ECF6",
           "showlakes": true,
           "showland": true,
           "subunitcolor": "white"
          },
          "hoverlabel": {
           "align": "left"
          },
          "hovermode": "closest",
          "mapbox": {
           "style": "light"
          },
          "paper_bgcolor": "white",
          "plot_bgcolor": "#E5ECF6",
          "polar": {
           "angularaxis": {
            "gridcolor": "white",
            "linecolor": "white",
            "ticks": ""
           },
           "bgcolor": "#E5ECF6",
           "radialaxis": {
            "gridcolor": "white",
            "linecolor": "white",
            "ticks": ""
           }
          },
          "scene": {
           "xaxis": {
            "backgroundcolor": "#E5ECF6",
            "gridcolor": "white",
            "gridwidth": 2,
            "linecolor": "white",
            "showbackground": true,
            "ticks": "",
            "zerolinecolor": "white"
           },
           "yaxis": {
            "backgroundcolor": "#E5ECF6",
            "gridcolor": "white",
            "gridwidth": 2,
            "linecolor": "white",
            "showbackground": true,
            "ticks": "",
            "zerolinecolor": "white"
           },
           "zaxis": {
            "backgroundcolor": "#E5ECF6",
            "gridcolor": "white",
            "gridwidth": 2,
            "linecolor": "white",
            "showbackground": true,
            "ticks": "",
            "zerolinecolor": "white"
           }
          },
          "shapedefaults": {
           "line": {
            "color": "#2a3f5f"
           }
          },
          "ternary": {
           "aaxis": {
            "gridcolor": "white",
            "linecolor": "white",
            "ticks": ""
           },
           "baxis": {
            "gridcolor": "white",
            "linecolor": "white",
            "ticks": ""
           },
           "bgcolor": "#E5ECF6",
           "caxis": {
            "gridcolor": "white",
            "linecolor": "white",
            "ticks": ""
           }
          },
          "title": {
           "x": 0.05
          },
          "xaxis": {
           "automargin": true,
           "gridcolor": "white",
           "linecolor": "white",
           "ticks": "",
           "title": {
            "standoff": 15
           },
           "zerolinecolor": "white",
           "zerolinewidth": 2
          },
          "yaxis": {
           "automargin": true,
           "gridcolor": "white",
           "linecolor": "white",
           "ticks": "",
           "title": {
            "standoff": 15
           },
           "zerolinecolor": "white",
           "zerolinewidth": 2
          }
         }
        },
        "title": {
         "font": {
          "size": 10
         },
         "text": "Sankey Diagram"
        }
       }
      }
     },
     "metadata": {},
     "output_type": "display_data"
    }
   ],
   "source": [
    "df = pd.read_csv('data/sankey_assignment.csv')\n",
    "\n",
    "source_cols = ['PS', 'OMP', 'CNP', 'NRP', 'NMCCC', 'PEC', 'NCDM', 'RGS']\n",
    "target_cols = ['Reg', 'Aca', 'Oth']\n",
    "labels = df['LABEL'].unique()\n",
    "colors = {\n",
    "    'OMP': '#1bbeb9',\n",
    "    'PS': '#ffb18c',\n",
    "    'CNP': '#ff9e00',\n",
    "    'RGS': '#c871dc',\n",
    "    'NRP': '#ff84c1',\n",
    "    'NCDM': '#ffdc00',\n",
    "    'NMCCC': '#9fc6a0',\n",
    "    'PEC': '#00d5da',\n",
    "    'S': '#97d8fb',\n",
    "    'I': '#00cbff',\n",
    "    'D': '#70adb0',\n",
    "    'F': '#5795c1',\n",
    "    'N': '#75a8f1',\n",
    "    'Aca': '#a4f8a8',\n",
    "    'Reg': '#46bd84',\n",
    "    'Oth': '#9eeea0'\n",
    "}\n",
    "node_label = source_cols + list(labels) + target_cols\n",
    "\n",
    "source = []\n",
    "target = []\n",
    "value = []\n",
    "\n",
    "\n",
    "for i, col in enumerate(source_cols):\n",
    "    for j, label in enumerate(labels):\n",
    "        if df.loc[df['LABEL'] == label, col].values[0] > 0:\n",
    "            source.append(i)\n",
    "            target.append(len(source_cols) + j)\n",
    "            value.append(df.loc[df['LABEL'] == label, col].values[0])\n",
    "\n",
    "for i, label in enumerate(labels):\n",
    "    for j, col in enumerate(target_cols):\n",
    "        if df.loc[df['LABEL'] == label, col].values[0] > 0:\n",
    "            source.append(len(source_cols) + i)\n",
    "            target.append(len(source_cols) + len(labels) + j)\n",
    "            value.append(df.loc[df['LABEL'] == label, col].values[0])\n",
    "\n",
    "chart = go.Sankey(\n",
    "    link=dict(\n",
    "        source=source,\n",
    "        target=target,\n",
    "        value=value,\n",
    "        color=[colors[node_label[i]] for i in source]\n",
    "    ),\n",
    "    node=dict(\n",
    "        label=node_label,\n",
    "        pad=5,\n",
    "        thickness=10,\n",
    "        color=[colors[i] for i in node_label],\n",
    "        line=dict(color='black', width=1)\n",
    "    )\n",
    ")\n",
    "\n",
    "fig = go.Figure(chart, layout=go.Layout(\n",
    "    title=dict(text='Sankey Diagram', font=dict(size=10)),\n",
    "    font=dict(size=10),\n",
    "    margin=dict(l=20, r=20, t=50, b=20),\n",
    "))\n",
    "fig.show()\n",
    "\n",
    "pio.write_image(fig, 'output/sankey_diagram.png', width=4.5*96, height=4.25*96, scale=4)"
   ]
  },
  {
   "cell_type": "markdown",
   "metadata": {},
   "source": [
    "## Network Graph"
   ]
  },
  {
   "cell_type": "code",
   "execution_count": 282,
   "metadata": {},
   "outputs": [
    {
     "data": {
      "image/png": "[encoded data removed]",
      "text/plain": [
       "<Figure size 850x850 with 1 Axes>"
      ]
     },
     "metadata": {},
     "output_type": "display_data"
    }
   ],
   "source": [
    "df = pd.read_csv('data/networks_assignment.csv')\n",
    "nodes = df.columns[1:].tolist()\n",
    "matrix = df.iloc[:, 1:].values\n",
    "\n",
    "G = nx.Graph()\n",
    "\n",
    "blue_nodes = ['D', 'F', 'I', 'N', 'S']\n",
    "green_nodes = ['BIH', 'GEO', 'ISR', 'MNE', 'SRB', 'CHE', 'TUR', 'UKR', 'GBR', 'AUS', 'HKG', 'USA']\n",
    "yellow_nodes = ['AUT', 'BEL', 'BGR', 'HRV', 'CZE', 'EST', 'FRA', 'DEU', 'GRC', 'HUN', \n",
    "                'IRL', 'ITA', 'LVA', 'LUX', 'NLD', 'PRT', 'ROU', 'SVK', 'SVN', 'ESP']\n",
    "\n",
    "for node in nodes:\n",
    "    G.add_node(node)\n",
    "\n",
    "node_color = []\n",
    "\n",
    "for node in G.nodes:\n",
    "    if node in blue_nodes:\n",
    "        node_color.append('blue')\n",
    "    elif node in green_nodes:\n",
    "        node_color.append('green')\n",
    "    elif node in yellow_nodes:\n",
    "        node_color.append('yellow')\n",
    "    else:\n",
    "        node_color.append('gray')\n",
    "\n",
    "for i, row in df.iterrows():\n",
    "    source = row['LABELS']\n",
    "    for j, val in enumerate(row[1:]):\n",
    "        if val > 0:\n",
    "            target = df.columns[j+1]\n",
    "            G.add_edge(source, target, weight=val)\n",
    "\n",
    "pos = {}\n",
    "\n",
    "for i, node in enumerate(blue_nodes):\n",
    "    angle = 2 * np.pi * i / len(blue_nodes)\n",
    "    pos[node] = np.array([np.cos(angle), np.sin(angle)])\n",
    "\n",
    "outer_nodes = green_nodes + yellow_nodes\n",
    "min_dist = 1\n",
    "np.random.seed(69420)\n",
    "for node in outer_nodes:\n",
    "    while True:\n",
    "        angle = np.random.uniform(0, 2*np.pi)\n",
    "        radius = np.random.uniform(1.5, 4)\n",
    "        new_pos = radius * np.array([np.cos(angle), np.sin(angle)])\n",
    "        \n",
    "        overlap = False\n",
    "        for existing_pos in pos.values():\n",
    "            if np.linalg.norm(new_pos - existing_pos) < min_dist:\n",
    "                overlap = True\n",
    "                break\n",
    "        \n",
    "        if not overlap:\n",
    "            pos[node] = new_pos\n",
    "            break\n",
    "\n",
    "plt.figure(figsize=(8.5, 8.5))\n",
    "nx.draw_networkx_nodes(G, pos, node_color=node_color, node_size=600)\n",
    "nx.draw_networkx_edges(G, pos, alpha=0.25)\n",
    "nx.draw_networkx_labels(G, pos, font_size=10)\n",
    "\n",
    "plt.axis('off')\n",
    "plt.tight_layout()\n",
    "\n",
    "plt.savefig('output/network_graph.png', dpi=300, format='png')\n",
    "\n",
    "plt.show()"
   ]
  }
 ],
 "metadata": {
  "kernelspec": {
   "display_name": ".env",
   "language": "python",
   "name": "python3"
  },
  "language_info": {
   "codemirror_mode": {
    "name": "ipython",
    "version": 3
   },
   "file_extension": ".py",
   "mimetype": "text/x-python",
   "name": "python",
   "nbconvert_exporter": "python",
   "pygments_lexer": "ipython3",
   "version": "3.13.1"
  }
 },
 "nbformat": 4,
 "nbformat_minor": 2
}
